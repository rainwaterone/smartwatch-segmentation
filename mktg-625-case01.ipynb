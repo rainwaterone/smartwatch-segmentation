{
 "cells": [
  {
   "cell_type": "markdown",
   "metadata": {},
   "source": [
    "## Introduction\n",
    "This is an attempt to demonstrate the Smartwatch Segmentation Problem using Python. If you want to download this notebook and run it locally, be sure to grab the data file [here](https://github.com/rainwaterone/smartwatch-segmentation/blob/master/Smartwatch%20Market%20Segmentation%20Case%20Data%20JMP%201_24_2018.csv)\n",
    "\n",
    "Off-topic - [here](https://www.cheatography.com/weidadeyue/cheat-sheets/jupyter-notebook/) is an excellent cheat sheet of Jupyter keyboard shortcuts. You don't _have_ to go to _insert/cell below_ to insert a new cell.\n",
    "\n",
    "## Reading the raw data and assigning to a dataframe\n",
    "Note that before importing the furnished spreadsheet, I saved it from Excel as a plain .csv file. The `.read_excel()` method in pandas that can, ostensibly, read Excel files, but it seemed to be pulling in some of the file metadata when I read in the `.xlsx` file.\n",
    "\n",
    "First, we'll import the necessary libraries: pandas, numpy, seaborn, and pyplot. Then we'll read the data into a dataframe called, 'df'."
   ]
  },
  {
   "cell_type": "code",
   "execution_count": 1,
   "metadata": {},
   "outputs": [],
   "source": [
    "import pandas as pd\n",
    "import numpy as np\n",
    "import seaborn as sns\n",
    "import matplotlib.pyplot as plt\n",
    "\n",
    "file = 'Smartwatch Market Segmentation Case Data JMP 1_24_2018.csv'\n",
    "df = pd.read_csv(file) #This imports the csv file into a dataframe named 'df'"
   ]
  },
  {
   "cell_type": "code",
   "execution_count": 2,
   "metadata": {},
   "outputs": [
    {
     "name": "stdout",
     "output_type": "stream",
     "text": [
      "   Variables  Innov  ConstCom  CreatCom  TimelyInf  SaveM_T  SaveM_L  TaskMgm  \\\n",
      "0          1      3         3         5          2        4        4        3   \n",
      "1          2      5         6         2          6        2        4        6   \n",
      "2          3      7         7         3          4        2        4        4   \n",
      "3          4      4         7         4          5        3        3        4   \n",
      "4          5      7         7         2          4        2        4        2   \n",
      "\n",
      "   DeviceSt  Photo  ...  Snap  YouTube  Pod_radio  TV  NewsP  AmznP  Age  \\\n",
      "0         3      3  ...     0        0          0   1      0      1   38   \n",
      "1         6      2  ...     1        1          1   0      1      1   38   \n",
      "2         4      1  ...     0        1          1   1      1      0   42   \n",
      "3         5      1  ...     1        1          1   0      1      1   35   \n",
      "4         6      1  ...     1        1          1   1      1      1   36   \n",
      "\n",
      "   Female  Degree  Income  \n",
      "0       1       1       2  \n",
      "1       0       2       3  \n",
      "2       0       1       3  \n",
      "3       0       2       5  \n",
      "4       0       1       3  \n",
      "\n",
      "[5 rows x 38 columns]\n"
     ]
    }
   ],
   "source": [
    "print(df.head()) # Print the first few lines of df"
   ]
  },
  {
   "cell_type": "markdown",
   "metadata": {},
   "source": [
    "The first column shown in the output is the index of the dataframe. We see that the 'Variables' column of df is already numbered sequentially, so we'll just convert the 'Variables' column to the index. The 'Variables' column will remain column 0, which will be important as we later slice the dataframe into our segmentation and descriptor variables."
   ]
  },
  {
   "cell_type": "code",
   "execution_count": 3,
   "metadata": {},
   "outputs": [
    {
     "data": {
      "text/html": [
       "<div>\n",
       "<style scoped>\n",
       "    .dataframe tbody tr th:only-of-type {\n",
       "        vertical-align: middle;\n",
       "    }\n",
       "\n",
       "    .dataframe tbody tr th {\n",
       "        vertical-align: top;\n",
       "    }\n",
       "\n",
       "    .dataframe thead th {\n",
       "        text-align: right;\n",
       "    }\n",
       "</style>\n",
       "<table border=\"1\" class=\"dataframe\">\n",
       "  <thead>\n",
       "    <tr style=\"text-align: right;\">\n",
       "      <th></th>\n",
       "      <th>Innov</th>\n",
       "      <th>ConstCom</th>\n",
       "      <th>CreatCom</th>\n",
       "      <th>TimelyInf</th>\n",
       "      <th>SaveM_T</th>\n",
       "      <th>SaveM_L</th>\n",
       "      <th>TaskMgm</th>\n",
       "      <th>DeviceSt</th>\n",
       "      <th>Photo</th>\n",
       "      <th>Wellness</th>\n",
       "      <th>...</th>\n",
       "      <th>Snap</th>\n",
       "      <th>YouTube</th>\n",
       "      <th>Pod_radio</th>\n",
       "      <th>TV</th>\n",
       "      <th>NewsP</th>\n",
       "      <th>AmznP</th>\n",
       "      <th>Age</th>\n",
       "      <th>Female</th>\n",
       "      <th>Degree</th>\n",
       "      <th>Income</th>\n",
       "    </tr>\n",
       "    <tr>\n",
       "      <th>Variables</th>\n",
       "      <th></th>\n",
       "      <th></th>\n",
       "      <th></th>\n",
       "      <th></th>\n",
       "      <th></th>\n",
       "      <th></th>\n",
       "      <th></th>\n",
       "      <th></th>\n",
       "      <th></th>\n",
       "      <th></th>\n",
       "      <th></th>\n",
       "      <th></th>\n",
       "      <th></th>\n",
       "      <th></th>\n",
       "      <th></th>\n",
       "      <th></th>\n",
       "      <th></th>\n",
       "      <th></th>\n",
       "      <th></th>\n",
       "      <th></th>\n",
       "      <th></th>\n",
       "    </tr>\n",
       "  </thead>\n",
       "  <tbody>\n",
       "    <tr>\n",
       "      <th>1</th>\n",
       "      <td>3</td>\n",
       "      <td>3</td>\n",
       "      <td>5</td>\n",
       "      <td>2</td>\n",
       "      <td>4</td>\n",
       "      <td>4</td>\n",
       "      <td>3</td>\n",
       "      <td>3</td>\n",
       "      <td>3</td>\n",
       "      <td>2</td>\n",
       "      <td>...</td>\n",
       "      <td>0</td>\n",
       "      <td>0</td>\n",
       "      <td>0</td>\n",
       "      <td>1</td>\n",
       "      <td>0</td>\n",
       "      <td>1</td>\n",
       "      <td>38</td>\n",
       "      <td>1</td>\n",
       "      <td>1</td>\n",
       "      <td>2</td>\n",
       "    </tr>\n",
       "    <tr>\n",
       "      <th>2</th>\n",
       "      <td>5</td>\n",
       "      <td>6</td>\n",
       "      <td>2</td>\n",
       "      <td>6</td>\n",
       "      <td>2</td>\n",
       "      <td>4</td>\n",
       "      <td>6</td>\n",
       "      <td>6</td>\n",
       "      <td>2</td>\n",
       "      <td>5</td>\n",
       "      <td>...</td>\n",
       "      <td>1</td>\n",
       "      <td>1</td>\n",
       "      <td>1</td>\n",
       "      <td>0</td>\n",
       "      <td>1</td>\n",
       "      <td>1</td>\n",
       "      <td>38</td>\n",
       "      <td>0</td>\n",
       "      <td>2</td>\n",
       "      <td>3</td>\n",
       "    </tr>\n",
       "    <tr>\n",
       "      <th>3</th>\n",
       "      <td>7</td>\n",
       "      <td>7</td>\n",
       "      <td>3</td>\n",
       "      <td>4</td>\n",
       "      <td>2</td>\n",
       "      <td>4</td>\n",
       "      <td>4</td>\n",
       "      <td>4</td>\n",
       "      <td>1</td>\n",
       "      <td>6</td>\n",
       "      <td>...</td>\n",
       "      <td>0</td>\n",
       "      <td>1</td>\n",
       "      <td>1</td>\n",
       "      <td>1</td>\n",
       "      <td>1</td>\n",
       "      <td>0</td>\n",
       "      <td>42</td>\n",
       "      <td>0</td>\n",
       "      <td>1</td>\n",
       "      <td>3</td>\n",
       "    </tr>\n",
       "    <tr>\n",
       "      <th>4</th>\n",
       "      <td>4</td>\n",
       "      <td>7</td>\n",
       "      <td>4</td>\n",
       "      <td>5</td>\n",
       "      <td>3</td>\n",
       "      <td>3</td>\n",
       "      <td>4</td>\n",
       "      <td>5</td>\n",
       "      <td>1</td>\n",
       "      <td>5</td>\n",
       "      <td>...</td>\n",
       "      <td>1</td>\n",
       "      <td>1</td>\n",
       "      <td>1</td>\n",
       "      <td>0</td>\n",
       "      <td>1</td>\n",
       "      <td>1</td>\n",
       "      <td>35</td>\n",
       "      <td>0</td>\n",
       "      <td>2</td>\n",
       "      <td>5</td>\n",
       "    </tr>\n",
       "    <tr>\n",
       "      <th>5</th>\n",
       "      <td>7</td>\n",
       "      <td>7</td>\n",
       "      <td>2</td>\n",
       "      <td>4</td>\n",
       "      <td>2</td>\n",
       "      <td>4</td>\n",
       "      <td>2</td>\n",
       "      <td>6</td>\n",
       "      <td>1</td>\n",
       "      <td>3</td>\n",
       "      <td>...</td>\n",
       "      <td>1</td>\n",
       "      <td>1</td>\n",
       "      <td>1</td>\n",
       "      <td>1</td>\n",
       "      <td>1</td>\n",
       "      <td>1</td>\n",
       "      <td>36</td>\n",
       "      <td>0</td>\n",
       "      <td>1</td>\n",
       "      <td>3</td>\n",
       "    </tr>\n",
       "    <tr>\n",
       "      <th>...</th>\n",
       "      <td>...</td>\n",
       "      <td>...</td>\n",
       "      <td>...</td>\n",
       "      <td>...</td>\n",
       "      <td>...</td>\n",
       "      <td>...</td>\n",
       "      <td>...</td>\n",
       "      <td>...</td>\n",
       "      <td>...</td>\n",
       "      <td>...</td>\n",
       "      <td>...</td>\n",
       "      <td>...</td>\n",
       "      <td>...</td>\n",
       "      <td>...</td>\n",
       "      <td>...</td>\n",
       "      <td>...</td>\n",
       "      <td>...</td>\n",
       "      <td>...</td>\n",
       "      <td>...</td>\n",
       "      <td>...</td>\n",
       "      <td>...</td>\n",
       "    </tr>\n",
       "    <tr>\n",
       "      <th>996</th>\n",
       "      <td>4</td>\n",
       "      <td>5</td>\n",
       "      <td>4</td>\n",
       "      <td>5</td>\n",
       "      <td>3</td>\n",
       "      <td>5</td>\n",
       "      <td>5</td>\n",
       "      <td>4</td>\n",
       "      <td>3</td>\n",
       "      <td>6</td>\n",
       "      <td>...</td>\n",
       "      <td>0</td>\n",
       "      <td>0</td>\n",
       "      <td>0</td>\n",
       "      <td>1</td>\n",
       "      <td>0</td>\n",
       "      <td>1</td>\n",
       "      <td>37</td>\n",
       "      <td>0</td>\n",
       "      <td>2</td>\n",
       "      <td>4</td>\n",
       "    </tr>\n",
       "    <tr>\n",
       "      <th>997</th>\n",
       "      <td>3</td>\n",
       "      <td>7</td>\n",
       "      <td>2</td>\n",
       "      <td>7</td>\n",
       "      <td>2</td>\n",
       "      <td>4</td>\n",
       "      <td>6</td>\n",
       "      <td>5</td>\n",
       "      <td>1</td>\n",
       "      <td>5</td>\n",
       "      <td>...</td>\n",
       "      <td>0</td>\n",
       "      <td>1</td>\n",
       "      <td>1</td>\n",
       "      <td>1</td>\n",
       "      <td>1</td>\n",
       "      <td>1</td>\n",
       "      <td>36</td>\n",
       "      <td>0</td>\n",
       "      <td>1</td>\n",
       "      <td>5</td>\n",
       "    </tr>\n",
       "    <tr>\n",
       "      <th>998</th>\n",
       "      <td>4</td>\n",
       "      <td>5</td>\n",
       "      <td>2</td>\n",
       "      <td>6</td>\n",
       "      <td>2</td>\n",
       "      <td>4</td>\n",
       "      <td>7</td>\n",
       "      <td>7</td>\n",
       "      <td>2</td>\n",
       "      <td>4</td>\n",
       "      <td>...</td>\n",
       "      <td>0</td>\n",
       "      <td>1</td>\n",
       "      <td>1</td>\n",
       "      <td>1</td>\n",
       "      <td>0</td>\n",
       "      <td>1</td>\n",
       "      <td>40</td>\n",
       "      <td>0</td>\n",
       "      <td>1</td>\n",
       "      <td>5</td>\n",
       "    </tr>\n",
       "    <tr>\n",
       "      <th>999</th>\n",
       "      <td>3</td>\n",
       "      <td>1</td>\n",
       "      <td>5</td>\n",
       "      <td>1</td>\n",
       "      <td>4</td>\n",
       "      <td>4</td>\n",
       "      <td>4</td>\n",
       "      <td>3</td>\n",
       "      <td>4</td>\n",
       "      <td>2</td>\n",
       "      <td>...</td>\n",
       "      <td>0</td>\n",
       "      <td>0</td>\n",
       "      <td>0</td>\n",
       "      <td>1</td>\n",
       "      <td>0</td>\n",
       "      <td>1</td>\n",
       "      <td>39</td>\n",
       "      <td>0</td>\n",
       "      <td>1</td>\n",
       "      <td>1</td>\n",
       "    </tr>\n",
       "    <tr>\n",
       "      <th>1000</th>\n",
       "      <td>5</td>\n",
       "      <td>1</td>\n",
       "      <td>5</td>\n",
       "      <td>6</td>\n",
       "      <td>3</td>\n",
       "      <td>4</td>\n",
       "      <td>7</td>\n",
       "      <td>4</td>\n",
       "      <td>3</td>\n",
       "      <td>7</td>\n",
       "      <td>...</td>\n",
       "      <td>0</td>\n",
       "      <td>1</td>\n",
       "      <td>1</td>\n",
       "      <td>0</td>\n",
       "      <td>1</td>\n",
       "      <td>1</td>\n",
       "      <td>29</td>\n",
       "      <td>1</td>\n",
       "      <td>1</td>\n",
       "      <td>3</td>\n",
       "    </tr>\n",
       "  </tbody>\n",
       "</table>\n",
       "<p>1000 rows × 37 columns</p>\n",
       "</div>"
      ],
      "text/plain": [
       "           Innov  ConstCom  CreatCom  TimelyInf  SaveM_T  SaveM_L  TaskMgm  \\\n",
       "Variables                                                                    \n",
       "1              3         3         5          2        4        4        3   \n",
       "2              5         6         2          6        2        4        6   \n",
       "3              7         7         3          4        2        4        4   \n",
       "4              4         7         4          5        3        3        4   \n",
       "5              7         7         2          4        2        4        2   \n",
       "...          ...       ...       ...        ...      ...      ...      ...   \n",
       "996            4         5         4          5        3        5        5   \n",
       "997            3         7         2          7        2        4        6   \n",
       "998            4         5         2          6        2        4        7   \n",
       "999            3         1         5          1        4        4        4   \n",
       "1000           5         1         5          6        3        4        7   \n",
       "\n",
       "           DeviceSt  Photo  Wellness  ...  Snap  YouTube  Pod_radio  TV  \\\n",
       "Variables                             ...                                 \n",
       "1                 3      3         2  ...     0        0          0   1   \n",
       "2                 6      2         5  ...     1        1          1   0   \n",
       "3                 4      1         6  ...     0        1          1   1   \n",
       "4                 5      1         5  ...     1        1          1   0   \n",
       "5                 6      1         3  ...     1        1          1   1   \n",
       "...             ...    ...       ...  ...   ...      ...        ...  ..   \n",
       "996               4      3         6  ...     0        0          0   1   \n",
       "997               5      1         5  ...     0        1          1   1   \n",
       "998               7      2         4  ...     0        1          1   1   \n",
       "999               3      4         2  ...     0        0          0   1   \n",
       "1000              4      3         7  ...     0        1          1   0   \n",
       "\n",
       "           NewsP  AmznP  Age  Female  Degree  Income  \n",
       "Variables                                             \n",
       "1              0      1   38       1       1       2  \n",
       "2              1      1   38       0       2       3  \n",
       "3              1      0   42       0       1       3  \n",
       "4              1      1   35       0       2       5  \n",
       "5              1      1   36       0       1       3  \n",
       "...          ...    ...  ...     ...     ...     ...  \n",
       "996            0      1   37       0       2       4  \n",
       "997            1      1   36       0       1       5  \n",
       "998            0      1   40       0       1       5  \n",
       "999            0      1   39       0       1       1  \n",
       "1000           1      1   29       1       1       3  \n",
       "\n",
       "[1000 rows x 37 columns]"
      ]
     },
     "execution_count": 3,
     "metadata": {},
     "output_type": "execute_result"
    }
   ],
   "source": [
    "df.set_index('Variables')"
   ]
  },
  {
   "cell_type": "markdown",
   "metadata": {},
   "source": [
    "Since for the segmentation, we are only interested in the segmentation variables, which are in the columns 'Innov' thru 'Price', I'll read those into a separate dataframe named 'dfSeg' using the `.iloc()` method. "
   ]
  },
  {
   "cell_type": "code",
   "execution_count": 4,
   "metadata": {},
   "outputs": [],
   "source": [
    "dfSeg = df.loc[:,'Innov':'Price']"
   ]
  },
  {
   "cell_type": "markdown",
   "metadata": {},
   "source": [
    "Note that the first parameter of the `.iloc()` method specifies the range of rows to be included, in the form `firstrow:lastrow`. Since we want all rows, we simply leave the colon `:` in place and specify only the columns we want.\n",
    "\n",
    "Now, we'll print the first few rows of the new `dfSeg` dataframe:"
   ]
  },
  {
   "cell_type": "code",
   "execution_count": 5,
   "metadata": {},
   "outputs": [
    {
     "name": "stdout",
     "output_type": "stream",
     "text": [
      "   Innov  ConstCom  CreatCom  TimelyInf  SaveM_T  SaveM_L  TaskMgm  DeviceSt  \\\n",
      "0      3         3         5          2        4        4        3         3   \n",
      "1      5         6         2          6        2        4        6         6   \n",
      "2      7         7         3          4        2        4        4         4   \n",
      "3      4         7         4          5        3        3        4         5   \n",
      "4      7         7         2          4        2        4        2         6   \n",
      "\n",
      "   Photo  Wellness  Athlete  Style  Price  \n",
      "0      3         2        3      3    200  \n",
      "1      2         5        3      1    350  \n",
      "2      1         6        4      1    220  \n",
      "3      1         5        4      4    320  \n",
      "4      1         3        2      4    250  \n"
     ]
    }
   ],
   "source": [
    "print(dfSeg.head())"
   ]
  },
  {
   "cell_type": "markdown",
   "metadata": {},
   "source": [
    "Just for giggles, we'll plot a histogram of the Innov preference values using Seaborn:"
   ]
  },
  {
   "cell_type": "code",
   "execution_count": 6,
   "metadata": {},
   "outputs": [
    {
     "data": {
      "text/plain": [
       "<matplotlib.axes._subplots.AxesSubplot at 0x2396947be80>"
      ]
     },
     "execution_count": 6,
     "metadata": {},
     "output_type": "execute_result"
    },
    {
     "data": {
      "image/png": "[encoded data removed]",
      "text/plain": [
       "<Figure size 432x288 with 1 Axes>"
      ]
     },
     "metadata": {
      "needs_background": "light"
     },
     "output_type": "display_data"
    }
   ],
   "source": [
    "sns.countplot(x = 'Innov', data = dfSeg)"
   ]
  },
  {
   "cell_type": "markdown",
   "metadata": {},
   "source": [
    "## Setting up the segmentation and creating the dendrogram\n",
    "Now, we'll get into the fun stuff of doing the segmentation. The fancy plot that we created in JMP is called a dendrogram. It is generated by a function in SciPy called, accordingly, `dendrogram()` that is part of the scipy.cluster.hierarchy group of functions. \n",
    "\n",
    "Before creating the dendrogram, we have to actually perform the hierarchial clustering, which is done with the `linkage()` function. Below, we will:\n",
    "1. Import the functions (Normally, I would do this at the very beginning, but I do it now to call attention to it.)\n",
    "2. Call `linkage()` on our `dfSeg` dataframe using the Ward variance minimization algorithm\n",
    "3. Set the size and title for our plot\n",
    "4. Call `dendrogram()` to generate the dendrogram\n",
    "5. Assign it all to a variable `dend`, which will plot it.\n",
    "\n",
    "This takes a while to run on my used-to-be-considered-fast Xeon CADstation, so be patient.\n",
    "\n",
    "There is much more information at the [SciPy Documentation Page](https://docs.scipy.org/doc/scipy/reference/cluster.hierarchy.html)"
   ]
  },
  {
   "cell_type": "code",
   "execution_count": 7,
   "metadata": {},
   "outputs": [
    {
     "data": {
      "image/png": "[encoded data removed]",
      "text/plain": [
       "<Figure size 4608x576 with 1 Axes>"
      ]
     },
     "metadata": {
      "needs_background": "light"
     },
     "output_type": "display_data"
    }
   ],
   "source": [
    "import scipy.cluster.hierarchy as sch # I called it 'sch' for 'SciPy Cluster Hierarchy. You can call it whatever.'\n",
    "from scipy.spatial.distance import pdist # This will be used for computing distance between clusters\n",
    "\n",
    "linkmat = sch.linkage(dfSeg, method='ward') # Generates the linkage matrix\n",
    "\n",
    "plt.rcParams[\"figure.figsize\"] = (64,8) # This sets the size of the plot\n",
    "plt.title('SmartWatch Dendrogram') # This sets the title for the plot\n",
    "dend = sch.dendrogram(linkmat) #This assigns the plot object to the variable 'dend', and plots it"
   ]
  },
  {
   "cell_type": "markdown",
   "metadata": {},
   "source": [
    "Next, we'll generage the cophenetic correlation coefficient. This is a measure of how well a dendrogram preserves the pairwise distances between the data points. Like most things in statistics and data science, there is no standard for what constitutes a 'good' value; it's primarily relevant when comparing with other similar segmentations."
   ]
  },
  {
   "cell_type": "code",
   "execution_count": 8,
   "metadata": {},
   "outputs": [
    {
     "name": "stdout",
     "output_type": "stream",
     "text": [
      "0.6252394440172576\n"
     ]
    }
   ],
   "source": [
    "c, coph_dists = sch.cophenet(linkmat, pdist(dfSeg)) # Generates the Cophenetic Correlation Coefficient\n",
    "print(c)"
   ]
  },
  {
   "cell_type": "markdown",
   "metadata": {},
   "source": [
    "In the dendrogram, the _x_-axis contains the segmentation variables, and the _y_-axis represents the distance between the clusters. \n",
    "\n",
    "Suppose we want to segment into 4 clusters...We can regenerate the plot above with a horizontal line at 500 to see how this will look. The following code does that:"
   ]
  },
  {
   "cell_type": "code",
   "execution_count": 9,
   "metadata": {},
   "outputs": [
    {
     "data": {
      "text/plain": [
       "<matplotlib.lines.Line2D at 0x2396eefce48>"
      ]
     },
     "execution_count": 9,
     "metadata": {},
     "output_type": "execute_result"
    },
    {
     "data": {
      "image/png": "[encoded data removed]",
      "text/plain": [
       "<Figure size 4608x576 with 1 Axes>"
      ]
     },
     "metadata": {
      "needs_background": "light"
     },
     "output_type": "display_data"
    }
   ],
   "source": [
    "#plt.rcParams[\"figure.figsize\"] = (64,8)\n",
    "#plt.title('SmartWatch Dendrogram') # This sets the title for the next plot\n",
    "dend = sch.dendrogram(sch.linkage(dfSeg,method='ward'))\n",
    "plt.axhline(y=500, color = 'red', linestyle = '--')"
   ]
  },
  {
   "cell_type": "markdown",
   "metadata": {},
   "source": [
    "## Performing the segmentation\n",
    "Note that this only drew a dashed line across our graph, it did not actually segment our data. To to that, we'll need to import a function from sklearn. The following code imports the function, then segments the data into 4 clusters using Euclidean distance to form the clusters, using Ward's method to minimize the variance within each cluster.\n",
    "\n",
    "The last two lines of this section of code will output the results of the clustering as a 1 x _n_ array in which the _n_th- value represents the predicted cluster for the _n_th customer."
   ]
  },
  {
   "cell_type": "code",
   "execution_count": 10,
   "metadata": {},
   "outputs": [
    {
     "name": "stdout",
     "output_type": "stream",
     "text": [
      "[1 2 1 2 0 3 2 2 3 0 0 0 1 1 1 1 0 1 3 1 1 0 1 0 3 1 1 2 1 0 1 1 0 1 1 3 1\n",
      " 3 2 1 1 1 0 1 1 1 1 0 3 3 1 1 3 0 3 3 0 1 0 0 1 2 2 1 3 0 1 0 3 2 0 1 0 3\n",
      " 1 1 1 3 1 3 1 1 1 0 3 0 3 0 3 0 0 0 3 3 1 0 3 1 3 0 3 3 1 1 0 3 0 0 3 1 1\n",
      " 2 0 3 0 1 3 0 3 3 1 0 1 1 1 1 1 0 1 1 0 1 1 0 0 3 3 2 1 1 1 3 2 1 0 0 3 1\n",
      " 3 0 1 1 0 1 3 1 3 0 3 2 2 2 0 0 0 0 3 1 1 3 1 3 0 1 0 1 0 0 3 3 0 3 3 3 1\n",
      " 0 1 1 3 1 1 1 0 3 1 1 0 1 3 1 2 2 3 1 2 1 3 0 1 3 3 1 3 0 1 1 2 3 1 0 1 1\n",
      " 3 0 1 2 1 3 0 1 0 3 2 1 3 1 1 2 3 0 1 1 1 3 2 2 0 0 1 3 1 2 3 1 3 0 0 1 1\n",
      " 1 0 1 0 3 3 0 0 3 1 1 3 3 3 3 3 1 1 1 1 1 1 1 2 3 1 3 3 2 1 3 3 0 3 3 3 1\n",
      " 1 1 1 3 0 1 0 3 1 1 1 1 2 3 1 0 1 0 2 2 1 1 0 1 3 1 1 3 0 0 0 3 1 1 3 0 0\n",
      " 1 3 1 0 0 0 0 1 0 0 3 1 1 0 0 1 1 1 1 1 0 3 2 0 1 1 0 2 1 0 1 0 3 3 3 0 1\n",
      " 0 1 3 3 3 1 3 1 0 0 1 3 3 1 1 0 0 1 1 3 3 1 3 1 0 0 1 0 3 0 0 0 0 3 1 0 1\n",
      " 1 3 3 1 1 0 0 1 3 0 1 0 1 1 1 3 2 1 1 2 3 0 3 0 0 1 1 1 1 1 3 1 2 3 0 0 0\n",
      " 1 1 0 0 0 0 3 1 3 1 0 3 2 3 1 0 3 3 3 3 1 0 1 3 0 1 1 3 1 1 1 1 1 0 2 2 1\n",
      " 0 3 0 0 1 1 0 0 1 2 3 1 1 1 0 1 1 1 3 1 2 1 2 1 1 1 0 1 1 3 3 3 0 0 0 1 0\n",
      " 3 0 1 1 1 0 3 3 0 1 2 3 3 1 0 3 0 0 1 3 0 1 1 0 0 0 3 1 1 2 3 1 1 3 1 1 0\n",
      " 3 0 2 1 3 3 0 3 3 1 1 3 0 0 3 1 3 0 0 0 1 3 1 0 2 1 1 3 0 0 3 1 1 3 1 2 1\n",
      " 1 3 3 1 3 0 3 0 0 1 3 0 1 1 1 2 0 1 2 1 3 1 0 1 2 3 1 3 0 0 1 3 1 3 0 1 0\n",
      " 3 3 1 0 0 0 0 3 1 0 1 1 0 1 2 0 3 1 3 0 3 1 1 0 1 1 1 1 0 3 0 3 1 3 1 0 3\n",
      " 1 0 0 3 1 0 3 1 3 0 3 2 3 0 0 0 1 1 1 1 1 3 2 2 2 1 3 0 1 1 3 1 1 0 1 1 0\n",
      " 1 1 1 0 0 0 1 0 0 2 0 0 1 1 3 1 1 1 3 1 1 2 1 1 1 3 0 0 1 0 1 1 1 1 3 0 3\n",
      " 2 0 0 3 1 0 1 0 1 3 1 3 0 0 0 0 2 3 0 3 0 1 1 1 1 1 1 3 1 3 0 1 3 0 1 0 0\n",
      " 0 0 1 0 1 0 0 1 3 2 1 3 0 1 0 0 3 1 1 1 1 0 3 2 0 3 3 1 1 0 1 0 2 2 1 3 1\n",
      " 3 0 3 0 3 0 3 1 0 1 0 3 1 3 3 0 1 1 1 1 1 0 0 3 0 0 2 0 1 0 1 3 3 1 0 0 1\n",
      " 1 1 1 2 1 1 3 0 1 3 3 1 1 0 1 0 1 1 1 3 1 3 3 3 1 1 0 3 1 0 1 1 1 2 0 0 1\n",
      " 0 0 1 1 0 0 0 0 0 1 0 1 1 0 2 0 0 0 1 3 3 3 0 0 0 1 2 1 1 3 1 0 1 0 2 1 0\n",
      " 3 0 1 1 1 0 0 1 0 3 3 2 0 3 1 0 0 3 1 1 1 0 3 3 1 0 2 3 1 1 1 0 0 0 2 0 1\n",
      " 3 0 1 3 3 3 3 2 2 2 1 1 3 1 0 0 1 1 0 0 0 3 1 0 1 1 1 1 0 1 0 1 3 2 1 1 1\n",
      " 0]\n"
     ]
    }
   ],
   "source": [
    "from sklearn.cluster import AgglomerativeClustering # Again, I would normally do this at the beginning of the file\n",
    "myCluster = AgglomerativeClustering(n_clusters = 4, affinity = 'euclidean', linkage = 'ward') # sets up the clustering params\n",
    "y_hc = myCluster.fit_predict(dfSeg) # This line creates a map of the cluster as an array\n",
    "print(y_hc) # This prints a list of the assigned segment for each customer"
   ]
  },
  {
   "cell_type": "markdown",
   "metadata": {},
   "source": [
    "Now, we'll graft the cluster vector onto dfSeg as a column names 'segment'. We'll do likewise with df in case we decide to use it later..."
   ]
  },
  {
   "cell_type": "code",
   "execution_count": 11,
   "metadata": {},
   "outputs": [],
   "source": [
    "dfSeg = dfSeg.assign(segment=pd.Series(y_hc).values)\n",
    "df = df.assign(segment=pd.Series(y_hc).values)"
   ]
  },
  {
   "cell_type": "code",
   "execution_count": 12,
   "metadata": {},
   "outputs": [
    {
     "name": "stdout",
     "output_type": "stream",
     "text": [
      "   Innov  ConstCom  CreatCom  TimelyInf  SaveM_T  SaveM_L  TaskMgm  DeviceSt  \\\n",
      "0      3         3         5          2        4        4        3         3   \n",
      "1      5         6         2          6        2        4        6         6   \n",
      "2      7         7         3          4        2        4        4         4   \n",
      "3      4         7         4          5        3        3        4         5   \n",
      "4      7         7         2          4        2        4        2         6   \n",
      "\n",
      "   Photo  Wellness  Athlete  Style  Price  segment  \n",
      "0      3         2        3      3    200        1  \n",
      "1      2         5        3      1    350        2  \n",
      "2      1         6        4      1    220        1  \n",
      "3      1         5        4      4    320        2  \n",
      "4      1         3        2      4    250        0  \n"
     ]
    }
   ],
   "source": [
    "print(dfSeg.head())"
   ]
  },
  {
   "cell_type": "markdown",
   "metadata": {},
   "source": [
    "Now, we can construct a table of the means of the basis variables for each segment. Amazingly, the .pivot_table() function of Pandas does that, and its default aggregation is the mean of each column for each index value...so, selecting 'segment' as the index:"
   ]
  },
  {
   "cell_type": "code",
   "execution_count": 13,
   "metadata": {},
   "outputs": [
    {
     "data": {
      "text/html": [
       "<div>\n",
       "<style scoped>\n",
       "    .dataframe tbody tr th:only-of-type {\n",
       "        vertical-align: middle;\n",
       "    }\n",
       "\n",
       "    .dataframe tbody tr th {\n",
       "        vertical-align: top;\n",
       "    }\n",
       "\n",
       "    .dataframe thead th {\n",
       "        text-align: right;\n",
       "    }\n",
       "</style>\n",
       "<table border=\"1\" class=\"dataframe\">\n",
       "  <thead>\n",
       "    <tr style=\"text-align: right;\">\n",
       "      <th></th>\n",
       "      <th>Athlete</th>\n",
       "      <th>ConstCom</th>\n",
       "      <th>CreatCom</th>\n",
       "      <th>DeviceSt</th>\n",
       "      <th>Innov</th>\n",
       "      <th>Photo</th>\n",
       "      <th>Price</th>\n",
       "      <th>SaveM_L</th>\n",
       "      <th>SaveM_T</th>\n",
       "      <th>Style</th>\n",
       "      <th>TaskMgm</th>\n",
       "      <th>TimelyInf</th>\n",
       "      <th>Wellness</th>\n",
       "    </tr>\n",
       "    <tr>\n",
       "      <th>segment</th>\n",
       "      <th></th>\n",
       "      <th></th>\n",
       "      <th></th>\n",
       "      <th></th>\n",
       "      <th></th>\n",
       "      <th></th>\n",
       "      <th></th>\n",
       "      <th></th>\n",
       "      <th></th>\n",
       "      <th></th>\n",
       "      <th></th>\n",
       "      <th></th>\n",
       "      <th></th>\n",
       "    </tr>\n",
       "  </thead>\n",
       "  <tbody>\n",
       "    <tr>\n",
       "      <th>0</th>\n",
       "      <td>3.989655</td>\n",
       "      <td>5.106897</td>\n",
       "      <td>4.324138</td>\n",
       "      <td>3.900000</td>\n",
       "      <td>4.437931</td>\n",
       "      <td>3.062069</td>\n",
       "      <td>250.896552</td>\n",
       "      <td>4.127586</td>\n",
       "      <td>3.441379</td>\n",
       "      <td>4.844828</td>\n",
       "      <td>4.620690</td>\n",
       "      <td>4.437931</td>\n",
       "      <td>4.993103</td>\n",
       "    </tr>\n",
       "    <tr>\n",
       "      <th>1</th>\n",
       "      <td>3.798995</td>\n",
       "      <td>4.575377</td>\n",
       "      <td>4.271357</td>\n",
       "      <td>3.831658</td>\n",
       "      <td>4.077889</td>\n",
       "      <td>3.160804</td>\n",
       "      <td>200.402010</td>\n",
       "      <td>3.942211</td>\n",
       "      <td>3.484925</td>\n",
       "      <td>4.180905</td>\n",
       "      <td>4.158291</td>\n",
       "      <td>4.256281</td>\n",
       "      <td>4.341709</td>\n",
       "    </tr>\n",
       "    <tr>\n",
       "      <th>2</th>\n",
       "      <td>2.773333</td>\n",
       "      <td>5.640000</td>\n",
       "      <td>2.746667</td>\n",
       "      <td>5.253333</td>\n",
       "      <td>4.480000</td>\n",
       "      <td>2.000000</td>\n",
       "      <td>332.133333</td>\n",
       "      <td>3.960000</td>\n",
       "      <td>2.226667</td>\n",
       "      <td>3.800000</td>\n",
       "      <td>5.373333</td>\n",
       "      <td>5.626667</td>\n",
       "      <td>3.906667</td>\n",
       "    </tr>\n",
       "    <tr>\n",
       "      <th>3</th>\n",
       "      <td>3.953586</td>\n",
       "      <td>4.071730</td>\n",
       "      <td>4.641350</td>\n",
       "      <td>3.333333</td>\n",
       "      <td>3.594937</td>\n",
       "      <td>3.649789</td>\n",
       "      <td>149.535865</td>\n",
       "      <td>3.869198</td>\n",
       "      <td>3.801688</td>\n",
       "      <td>3.987342</td>\n",
       "      <td>3.341772</td>\n",
       "      <td>3.742616</td>\n",
       "      <td>3.789030</td>\n",
       "    </tr>\n",
       "  </tbody>\n",
       "</table>\n",
       "</div>"
      ],
      "text/plain": [
       "          Athlete  ConstCom  CreatCom  DeviceSt     Innov     Photo  \\\n",
       "segment                                                               \n",
       "0        3.989655  5.106897  4.324138  3.900000  4.437931  3.062069   \n",
       "1        3.798995  4.575377  4.271357  3.831658  4.077889  3.160804   \n",
       "2        2.773333  5.640000  2.746667  5.253333  4.480000  2.000000   \n",
       "3        3.953586  4.071730  4.641350  3.333333  3.594937  3.649789   \n",
       "\n",
       "              Price   SaveM_L   SaveM_T     Style   TaskMgm  TimelyInf  \\\n",
       "segment                                                                  \n",
       "0        250.896552  4.127586  3.441379  4.844828  4.620690   4.437931   \n",
       "1        200.402010  3.942211  3.484925  4.180905  4.158291   4.256281   \n",
       "2        332.133333  3.960000  2.226667  3.800000  5.373333   5.626667   \n",
       "3        149.535865  3.869198  3.801688  3.987342  3.341772   3.742616   \n",
       "\n",
       "         Wellness  \n",
       "segment            \n",
       "0        4.993103  \n",
       "1        4.341709  \n",
       "2        3.906667  \n",
       "3        3.789030  "
      ]
     },
     "execution_count": 13,
     "metadata": {},
     "output_type": "execute_result"
    }
   ],
   "source": [
    "pd.pivot_table(dfSeg, index=\"segment\")"
   ]
  },
  {
   "cell_type": "markdown",
   "metadata": {},
   "source": [
    "While the index numbers are not in the same order as the [JMP output presented in class](https://docs.google.com/presentation/d/1EaKxI7HpHt0JmTvZBX407RY3_ohcSr-XM-9wpy91G5Y/edit#slide=id.p6), you can match them up by looking at the mean of any one column. For example, the mean Price for our segment = 0 matches with Segment 4 of Dr. Hari's solution. Similarly, we can see that our other results match that in the solution. As a cross reference, I'll set up a table that shows which of these segments correspond with Dr. Hari's:"
   ]
  },
  {
   "cell_type": "code",
   "execution_count": 14,
   "metadata": {},
   "outputs": [
    {
     "name": "stdout",
     "output_type": "stream",
     "text": [
      "   this_case  Dr_Hari\n",
      "0          0        4\n",
      "1          1        1\n",
      "2          2        3\n",
      "3          3        2\n"
     ]
    }
   ],
   "source": [
    "xref = [[0, 4],[1,1], [2,3],[3,2]] # Create a list  of the ordered pairs\n",
    "cross_reference = pd.DataFrame(xref,columns = ['this_case', 'Dr_Hari']) # Put them in a dataframe for easy viewing\n",
    "print(cross_reference)"
   ]
  },
  {
   "cell_type": "markdown",
   "metadata": {},
   "source": [
    "I don't really plan to do anything with cross_reference, it's just there to easily relate our output to Dr. Hari's solution.\n",
    "\n",
    "## Feature selection\n",
    "\n",
    "Next, we'll attempt to actually perform a fit with the data to select the four factors which most influence the segmentation. SelectKBest will select the best _k_ factors (features) based upon whatever scoring function we choose. We'll select the four with the best chi-squared values.\n",
    "\n",
    "We'll start by creating an input dataframe containing the input (explanatory) variables and the output (segmentation) value:"
   ]
  },
  {
   "cell_type": "code",
   "execution_count": 15,
   "metadata": {},
   "outputs": [],
   "source": [
    "X = dfSeg.iloc[:,0:12] # Creates an input dataframe of all rows and the first 12 columns of dfSeg\n",
    "Y = dfSeg.iloc[:,-1]   # Creates a target dataframe containing the segment column (-1 denotes the last column)"
   ]
  },
  {
   "cell_type": "markdown",
   "metadata": {},
   "source": [
    "Now, we'll import SelectKBest and chi2 from scikit-learn. Again, I'll normally import these at the beginning, but I put them here so that you can better associate them with their task."
   ]
  },
  {
   "cell_type": "code",
   "execution_count": 16,
   "metadata": {},
   "outputs": [
    {
     "name": "stdout",
     "output_type": "stream",
     "text": [
      "[25.523 45.611 48.703 49.373 41.139  2.469 78.695 55.137 50.793 47.859\n",
      " 24.877 31.087]\n"
     ]
    }
   ],
   "source": [
    "from sklearn.feature_selection import SelectKBest\n",
    "from sklearn.feature_selection import chi2\n",
    "\n",
    "test = SelectKBest(score_func=chi2, k=4) # Sets up an object for which we'll use chi^2 scores to select the top 4 fits\n",
    "fit = test.fit(X,Y) # Actually perform the fit to find the factors that most impact the segment assignment\n",
    "\n",
    "np.set_printoptions(precision=3) # Optionally, limit the print precision to make display neater\n",
    "print(fit.scores_) # Print the fit scores"
   ]
  },
  {
   "cell_type": "markdown",
   "metadata": {},
   "source": [
    "The top four scores are associated with Column 6, 7, 8, and 3 (remembering that the first column is Column 0). Optionally, I'll do some dataframe magic to make the results more comprehensible:"
   ]
  },
  {
   "cell_type": "code",
   "execution_count": 17,
   "metadata": {},
   "outputs": [
    {
     "name": "stdout",
     "output_type": "stream",
     "text": [
      "     Feature      Score\n",
      "6    TaskMgm  78.695317\n",
      "7   DeviceSt  55.136865\n",
      "8      Photo  50.792537\n",
      "3  TimelyInf  49.373357\n"
     ]
    }
   ],
   "source": [
    "df_scores = pd.DataFrame(fit.scores_) # Create a dataframe with the fit scores\n",
    "df_columns = pd.DataFrame(X.columns)  # Create a dataframe with the column headings\n",
    "feature_scores = pd.concat([df_columns,df_scores], axis=1) # Concatenate the two into one\n",
    "feature_scores.columns = ['Feature', 'Score'] # This will create column headings\n",
    "print(feature_scores.nlargest(4,'Score')) # Prints the four best features"
   ]
  },
  {
   "cell_type": "markdown",
   "metadata": {},
   "source": [
    "## Conclusion\n",
    "Hopefully, this will provide you with some context on how to perform a segmentation in Python. It looks intimidating when compared to the JMP UI, but gives you an invaluable jumping-off (no pun intended) point into using Python for serious data science. I encourage you to try this with other datasets; there are many other segmentation or clustering examples available via an internet search.\n",
    "\n",
    "## References\n",
    "[https://www.analyticsvidhya.com/blog/2019/05/beginners-guide-hierarchical-clustering/](https://www.analyticsvidhya.com/blog/2019/05/beginners-guide-hierarchical-clustering/)\n",
    "\n",
    "[https://medium.com/@sametgirgin/hierarchical-clustering-model-in-5-steps-with-python-6c45087d4318](https://medium.com/@sametgirgin/hierarchical-clustering-model-in-5-steps-with-python-6c45087d4318)\n",
    "\n",
    "[https://towardsdatascience.com/clustering-metrics-better-than-the-elbow-method-6926e1f723a6](https://towardsdatascience.com/clustering-metrics-better-than-the-elbow-method-6926e1f723a6)\n",
    "\n",
    "[https://towardsdatascience.com/cluster-analysis-create-visualize-and-interpret-customer-segments-474e55d00ebb](https://towardsdatascience.com/cluster-analysis-create-visualize-and-interpret-customer-segments-474e55d00ebb)\n",
    "\n",
    "[https://hub.packtpub.com/4-ways-implement-feature-selection-python-machine-learning/](https://hub.packtpub.com/4-ways-implement-feature-selection-python-machine-learning/)"
   ]
  }
 ],
 "metadata": {
  "kernelspec": {
   "display_name": "Python 3",
   "language": "python",
   "name": "python3"
  },
  "language_info": {
   "codemirror_mode": {
    "name": "ipython",
    "version": 3
   },
   "file_extension": ".py",
   "mimetype": "text/x-python",
   "name": "python",
   "nbconvert_exporter": "python",
   "pygments_lexer": "ipython3",
   "version": "3.7.3"
  }
 },
 "nbformat": 4,
 "nbformat_minor": 2
}
